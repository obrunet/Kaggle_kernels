{
 "cells": [
  {
   "cell_type": "markdown",
   "metadata": {},
   "source": [
    "# Hybrid recommendation system\n",
    "\n",
    "<img src='../input/photo-1489599849927-2ee91cede3ba.jpeg' height=\"500\">\n",
    "\n",
    "Photo by [Felix Mooneeram](https://unsplash.com/@felixmooneeram)"
   ]
  },
  {
   "cell_type": "markdown",
   "metadata": {},
   "source": [
    "## Origin of dataset\n",
    "\n",
    "MovieLens data sets were collected by the GroupLens Research Project at the University of Minnesota.\n",
    "\n",
    "This data set consists of: * 100,000 ratings (1-5) from 943 users on 1682 movies. * Each user has rated at least 20 movies. * Simple demographic info for the users (age, gender, occupation, zip)\n",
    "\n",
    "The data was collected through the MovieLens web site (movielens.umn.edu) during the seven-month period from September 19th, 1997 through April 22nd, 1998. This data has been cleaned up - users who had less than 20 ratings or did not have complete demographic information were removed from this data set. Detailed descriptions of the data file can be found at the end of this file.\n",
    "\n",
    "Neither the University of Minnesota nor any of the researchers involved can guarantee the correctness of the data, its suitability for any particular purpose, or the validity of results based on the use of the data set. The data set may be used for any research purposes under the following conditions:"
   ]
  },
  {
   "cell_type": "markdown",
   "metadata": {},
   "source": [
    "## Definition of a recommandation system\n",
    "\n",
    "Credits: [Wikipedia](https://en.wikipedia.org/wiki/Recommender_system)\n",
    "    \n",
    "_It is a subclass of information filtering system that seeks to predict the \"rating\" or \"preference\" a user would give to an item. They are primarily used in commercial applications._\n",
    "\n",
    "_Recommender systems are utilized in a variety of areas, and are most commonly recognized as playlist generators for video and music services like Netflix, YouTube and Spotify, product recommenders for services such as Amazon, or content recommenders for social media platforms such as Facebook and Twitter. These systems can operate using a single input, like music, or multiple inputs within and across platforms like news, books, and search queries. There are also popular recommender systems for specific topics like restaurants and online dating._"
   ]
  },
  {
   "cell_type": "markdown",
   "metadata": {},
   "source": [
    "## Recommandation engine design\n",
    "\n",
    "There are different approaches, some of them are:\n",
    "\n",
    "__Collaborative filtering__\n",
    "\n",
    "_It is based on the assumption that people who agreed in the past will agree in the future, and that they will like similar kinds of items as they liked in the past. The system generates recommendations using only information about rating profiles for different users or items. By locating peer users/items with a rating history similar to the current user or item, they generate recommendations using this neighborhood [...]._\n",
    "\n",
    "_Advantage: it does not rely on machine analyzable content and therefore it is capable of accurately recommending complex items such as movies without requiring an \"understanding\" of the item itself [...]._\n",
    "\n",
    "__Content-based filtering__\n",
    "\n",
    "_It is based on a description of the item and a profile of the user’s preferences. This methods is best suited to situations where there is known data on an item (name, location, description, etc.), but not on the user. Content-based recommenders treat recommendation as a user-specific classification problem and learn a classifier for the user's likes and dislikes based on product features._\n",
    "\n",
    "_In this system, keywords are used to describe the items and a user profile is built to indicate the type of item this user likes. This algorithms try to recommend items that are similar to those that a user liked in the past, or is examining in the present. It does not rely on a user sign-in mechanism to generate this often temporary profile. In particular, various candidate items are compared with items previously rated by the user and the best-matching items are recommended.[...]_\n",
    "\n",
    "__Hybrid recommender systems__\n",
    "\n",
    "_Most recommender systems now use a hybrid approach, combining collaborative filtering, content-based filtering, and other approaches._\n",
    "\n",
    "---"
   ]
  },
  {
   "cell_type": "markdown",
   "metadata": {},
   "source": [
    "# Data exploration & preparation"
   ]
  },
  {
   "cell_type": "code",
   "execution_count": 1,
   "metadata": {},
   "outputs": [],
   "source": [
    "import numpy as np\n",
    "import pandas as pd\n",
    "import matplotlib.pyplot as plt\n",
    "import seaborn as sns\n",
    "import os\n",
    "from scipy import sparse\n",
    "\n",
    "#import numpy as np\n",
    "#import scipy.sparse as sparse"
   ]
  },
  {
   "cell_type": "markdown",
   "metadata": {},
   "source": [
    "## Detailed description of used data files"
   ]
  },
  {
   "cell_type": "code",
   "execution_count": 2,
   "metadata": {},
   "outputs": [
    {
     "data": {
      "text/plain": [
       "(100000, 4)"
      ]
     },
     "execution_count": 2,
     "metadata": {},
     "output_type": "execute_result"
    }
   ],
   "source": [
    "rating_cols = ['user_id', 'movie_id', 'rating', 'unix_timestamp']\n",
    "df_ratings = pd.read_csv('../input/u.data', sep='\\t', names=rating_cols)\n",
    "df_ratings.shape"
   ]
  },
  {
   "cell_type": "code",
   "execution_count": 3,
   "metadata": {},
   "outputs": [
    {
     "data": {
      "text/html": [
       "<div>\n",
       "<style scoped>\n",
       "    .dataframe tbody tr th:only-of-type {\n",
       "        vertical-align: middle;\n",
       "    }\n",
       "\n",
       "    .dataframe tbody tr th {\n",
       "        vertical-align: top;\n",
       "    }\n",
       "\n",
       "    .dataframe thead th {\n",
       "        text-align: right;\n",
       "    }\n",
       "</style>\n",
       "<table border=\"1\" class=\"dataframe\">\n",
       "  <thead>\n",
       "    <tr style=\"text-align: right;\">\n",
       "      <th></th>\n",
       "      <th>user_id</th>\n",
       "      <th>movie_id</th>\n",
       "      <th>rating</th>\n",
       "      <th>unix_timestamp</th>\n",
       "    </tr>\n",
       "  </thead>\n",
       "  <tbody>\n",
       "    <tr>\n",
       "      <th>0</th>\n",
       "      <td>196</td>\n",
       "      <td>242</td>\n",
       "      <td>3</td>\n",
       "      <td>881250949</td>\n",
       "    </tr>\n",
       "    <tr>\n",
       "      <th>1</th>\n",
       "      <td>186</td>\n",
       "      <td>302</td>\n",
       "      <td>3</td>\n",
       "      <td>891717742</td>\n",
       "    </tr>\n",
       "    <tr>\n",
       "      <th>2</th>\n",
       "      <td>22</td>\n",
       "      <td>377</td>\n",
       "      <td>1</td>\n",
       "      <td>878887116</td>\n",
       "    </tr>\n",
       "    <tr>\n",
       "      <th>3</th>\n",
       "      <td>244</td>\n",
       "      <td>51</td>\n",
       "      <td>2</td>\n",
       "      <td>880606923</td>\n",
       "    </tr>\n",
       "    <tr>\n",
       "      <th>4</th>\n",
       "      <td>166</td>\n",
       "      <td>346</td>\n",
       "      <td>1</td>\n",
       "      <td>886397596</td>\n",
       "    </tr>\n",
       "  </tbody>\n",
       "</table>\n",
       "</div>"
      ],
      "text/plain": [
       "   user_id  movie_id  rating  unix_timestamp\n",
       "0      196       242       3       881250949\n",
       "1      186       302       3       891717742\n",
       "2       22       377       1       878887116\n",
       "3      244        51       2       880606923\n",
       "4      166       346       1       886397596"
      ]
     },
     "execution_count": 3,
     "metadata": {},
     "output_type": "execute_result"
    }
   ],
   "source": [
    "df_ratings.head()"
   ]
  },
  {
   "cell_type": "code",
   "execution_count": 4,
   "metadata": {},
   "outputs": [
    {
     "data": {
      "text/html": [
       "<div>\n",
       "<style scoped>\n",
       "    .dataframe tbody tr th:only-of-type {\n",
       "        vertical-align: middle;\n",
       "    }\n",
       "\n",
       "    .dataframe tbody tr th {\n",
       "        vertical-align: top;\n",
       "    }\n",
       "\n",
       "    .dataframe thead th {\n",
       "        text-align: right;\n",
       "    }\n",
       "</style>\n",
       "<table border=\"1\" class=\"dataframe\">\n",
       "  <thead>\n",
       "    <tr style=\"text-align: right;\">\n",
       "      <th></th>\n",
       "      <th>user_id</th>\n",
       "      <th>age</th>\n",
       "      <th>sex</th>\n",
       "      <th>occupation</th>\n",
       "      <th>zip_code</th>\n",
       "    </tr>\n",
       "  </thead>\n",
       "  <tbody>\n",
       "    <tr>\n",
       "      <th>0</th>\n",
       "      <td>1</td>\n",
       "      <td>24</td>\n",
       "      <td>M</td>\n",
       "      <td>technician</td>\n",
       "      <td>85711</td>\n",
       "    </tr>\n",
       "    <tr>\n",
       "      <th>1</th>\n",
       "      <td>2</td>\n",
       "      <td>53</td>\n",
       "      <td>F</td>\n",
       "      <td>other</td>\n",
       "      <td>94043</td>\n",
       "    </tr>\n",
       "    <tr>\n",
       "      <th>2</th>\n",
       "      <td>3</td>\n",
       "      <td>23</td>\n",
       "      <td>M</td>\n",
       "      <td>writer</td>\n",
       "      <td>32067</td>\n",
       "    </tr>\n",
       "    <tr>\n",
       "      <th>3</th>\n",
       "      <td>4</td>\n",
       "      <td>24</td>\n",
       "      <td>M</td>\n",
       "      <td>technician</td>\n",
       "      <td>43537</td>\n",
       "    </tr>\n",
       "    <tr>\n",
       "      <th>4</th>\n",
       "      <td>5</td>\n",
       "      <td>33</td>\n",
       "      <td>F</td>\n",
       "      <td>other</td>\n",
       "      <td>15213</td>\n",
       "    </tr>\n",
       "  </tbody>\n",
       "</table>\n",
       "</div>"
      ],
      "text/plain": [
       "   user_id  age sex  occupation zip_code\n",
       "0        1   24   M  technician    85711\n",
       "1        2   53   F       other    94043\n",
       "2        3   23   M      writer    32067\n",
       "3        4   24   M  technician    43537\n",
       "4        5   33   F       other    15213"
      ]
     },
     "execution_count": 4,
     "metadata": {},
     "output_type": "execute_result"
    }
   ],
   "source": [
    "users_cols = ['user_id', 'age', 'sex', 'occupation', 'zip_code']\n",
    "df_users = pd.read_csv('../input/u.user', sep='|', names=users_cols, parse_dates=True)\n",
    "df_users.head()"
   ]
  },
  {
   "cell_type": "code",
   "execution_count": 5,
   "metadata": {},
   "outputs": [
    {
     "data": {
      "text/html": [
       "<div>\n",
       "<style scoped>\n",
       "    .dataframe tbody tr th:only-of-type {\n",
       "        vertical-align: middle;\n",
       "    }\n",
       "\n",
       "    .dataframe tbody tr th {\n",
       "        vertical-align: top;\n",
       "    }\n",
       "\n",
       "    .dataframe thead th {\n",
       "        text-align: right;\n",
       "    }\n",
       "</style>\n",
       "<table border=\"1\" class=\"dataframe\">\n",
       "  <thead>\n",
       "    <tr style=\"text-align: right;\">\n",
       "      <th></th>\n",
       "      <th>movie_title</th>\n",
       "      <th>release_date</th>\n",
       "      <th>video_release_date</th>\n",
       "      <th>IMDb_URL</th>\n",
       "      <th>unknown|</th>\n",
       "      <th>Action|</th>\n",
       "      <th>Adventure|</th>\n",
       "      <th>Animation|</th>\n",
       "      <th>Children's|</th>\n",
       "      <th>Comedy|</th>\n",
       "      <th>...</th>\n",
       "      <th>Fantasy|</th>\n",
       "      <th>Film-Noir|</th>\n",
       "      <th>Horror|</th>\n",
       "      <th>Musical|</th>\n",
       "      <th>Mystery|</th>\n",
       "      <th>Romance|</th>\n",
       "      <th>Sci-Fi|</th>\n",
       "      <th>Thriller|</th>\n",
       "      <th>War|</th>\n",
       "      <th>Western|</th>\n",
       "    </tr>\n",
       "    <tr>\n",
       "      <th>movie_id</th>\n",
       "      <th></th>\n",
       "      <th></th>\n",
       "      <th></th>\n",
       "      <th></th>\n",
       "      <th></th>\n",
       "      <th></th>\n",
       "      <th></th>\n",
       "      <th></th>\n",
       "      <th></th>\n",
       "      <th></th>\n",
       "      <th></th>\n",
       "      <th></th>\n",
       "      <th></th>\n",
       "      <th></th>\n",
       "      <th></th>\n",
       "      <th></th>\n",
       "      <th></th>\n",
       "      <th></th>\n",
       "      <th></th>\n",
       "      <th></th>\n",
       "      <th></th>\n",
       "    </tr>\n",
       "  </thead>\n",
       "  <tbody>\n",
       "    <tr>\n",
       "      <th>1</th>\n",
       "      <td>Toy Story (1995)</td>\n",
       "      <td>01-Jan-1995</td>\n",
       "      <td>NaN</td>\n",
       "      <td>http://us.imdb.com/M/title-exact?Toy%20Story%2...</td>\n",
       "      <td>0</td>\n",
       "      <td>0</td>\n",
       "      <td>0</td>\n",
       "      <td>1</td>\n",
       "      <td>1</td>\n",
       "      <td>1</td>\n",
       "      <td>...</td>\n",
       "      <td>0</td>\n",
       "      <td>0</td>\n",
       "      <td>0</td>\n",
       "      <td>0</td>\n",
       "      <td>0</td>\n",
       "      <td>0</td>\n",
       "      <td>0</td>\n",
       "      <td>0</td>\n",
       "      <td>0</td>\n",
       "      <td>0</td>\n",
       "    </tr>\n",
       "    <tr>\n",
       "      <th>2</th>\n",
       "      <td>GoldenEye (1995)</td>\n",
       "      <td>01-Jan-1995</td>\n",
       "      <td>NaN</td>\n",
       "      <td>http://us.imdb.com/M/title-exact?GoldenEye%20(...</td>\n",
       "      <td>0</td>\n",
       "      <td>1</td>\n",
       "      <td>1</td>\n",
       "      <td>0</td>\n",
       "      <td>0</td>\n",
       "      <td>0</td>\n",
       "      <td>...</td>\n",
       "      <td>0</td>\n",
       "      <td>0</td>\n",
       "      <td>0</td>\n",
       "      <td>0</td>\n",
       "      <td>0</td>\n",
       "      <td>0</td>\n",
       "      <td>0</td>\n",
       "      <td>1</td>\n",
       "      <td>0</td>\n",
       "      <td>0</td>\n",
       "    </tr>\n",
       "    <tr>\n",
       "      <th>3</th>\n",
       "      <td>Four Rooms (1995)</td>\n",
       "      <td>01-Jan-1995</td>\n",
       "      <td>NaN</td>\n",
       "      <td>http://us.imdb.com/M/title-exact?Four%20Rooms%...</td>\n",
       "      <td>0</td>\n",
       "      <td>0</td>\n",
       "      <td>0</td>\n",
       "      <td>0</td>\n",
       "      <td>0</td>\n",
       "      <td>0</td>\n",
       "      <td>...</td>\n",
       "      <td>0</td>\n",
       "      <td>0</td>\n",
       "      <td>0</td>\n",
       "      <td>0</td>\n",
       "      <td>0</td>\n",
       "      <td>0</td>\n",
       "      <td>0</td>\n",
       "      <td>1</td>\n",
       "      <td>0</td>\n",
       "      <td>0</td>\n",
       "    </tr>\n",
       "    <tr>\n",
       "      <th>4</th>\n",
       "      <td>Get Shorty (1995)</td>\n",
       "      <td>01-Jan-1995</td>\n",
       "      <td>NaN</td>\n",
       "      <td>http://us.imdb.com/M/title-exact?Get%20Shorty%...</td>\n",
       "      <td>0</td>\n",
       "      <td>1</td>\n",
       "      <td>0</td>\n",
       "      <td>0</td>\n",
       "      <td>0</td>\n",
       "      <td>1</td>\n",
       "      <td>...</td>\n",
       "      <td>0</td>\n",
       "      <td>0</td>\n",
       "      <td>0</td>\n",
       "      <td>0</td>\n",
       "      <td>0</td>\n",
       "      <td>0</td>\n",
       "      <td>0</td>\n",
       "      <td>0</td>\n",
       "      <td>0</td>\n",
       "      <td>0</td>\n",
       "    </tr>\n",
       "    <tr>\n",
       "      <th>5</th>\n",
       "      <td>Copycat (1995)</td>\n",
       "      <td>01-Jan-1995</td>\n",
       "      <td>NaN</td>\n",
       "      <td>http://us.imdb.com/M/title-exact?Copycat%20(1995)</td>\n",
       "      <td>0</td>\n",
       "      <td>0</td>\n",
       "      <td>0</td>\n",
       "      <td>0</td>\n",
       "      <td>0</td>\n",
       "      <td>0</td>\n",
       "      <td>...</td>\n",
       "      <td>0</td>\n",
       "      <td>0</td>\n",
       "      <td>0</td>\n",
       "      <td>0</td>\n",
       "      <td>0</td>\n",
       "      <td>0</td>\n",
       "      <td>0</td>\n",
       "      <td>1</td>\n",
       "      <td>0</td>\n",
       "      <td>0</td>\n",
       "    </tr>\n",
       "  </tbody>\n",
       "</table>\n",
       "<p>5 rows × 23 columns</p>\n",
       "</div>"
      ],
      "text/plain": [
       "                movie_title release_date  video_release_date  \\\n",
       "movie_id                                                       \n",
       "1          Toy Story (1995)  01-Jan-1995                 NaN   \n",
       "2          GoldenEye (1995)  01-Jan-1995                 NaN   \n",
       "3         Four Rooms (1995)  01-Jan-1995                 NaN   \n",
       "4         Get Shorty (1995)  01-Jan-1995                 NaN   \n",
       "5            Copycat (1995)  01-Jan-1995                 NaN   \n",
       "\n",
       "                                                   IMDb_URL  unknown|  \\\n",
       "movie_id                                                                \n",
       "1         http://us.imdb.com/M/title-exact?Toy%20Story%2...         0   \n",
       "2         http://us.imdb.com/M/title-exact?GoldenEye%20(...         0   \n",
       "3         http://us.imdb.com/M/title-exact?Four%20Rooms%...         0   \n",
       "4         http://us.imdb.com/M/title-exact?Get%20Shorty%...         0   \n",
       "5         http://us.imdb.com/M/title-exact?Copycat%20(1995)         0   \n",
       "\n",
       "          Action|  Adventure|  Animation|  Children's|  Comedy|    ...     \\\n",
       "movie_id                                                           ...      \n",
       "1               0           0           1            1        1    ...      \n",
       "2               1           1           0            0        0    ...      \n",
       "3               0           0           0            0        0    ...      \n",
       "4               1           0           0            0        1    ...      \n",
       "5               0           0           0            0        0    ...      \n",
       "\n",
       "          Fantasy|  Film-Noir|  Horror|  Musical|  Mystery|  Romance|  \\\n",
       "movie_id                                                                \n",
       "1                0           0        0         0         0         0   \n",
       "2                0           0        0         0         0         0   \n",
       "3                0           0        0         0         0         0   \n",
       "4                0           0        0         0         0         0   \n",
       "5                0           0        0         0         0         0   \n",
       "\n",
       "          Sci-Fi|  Thriller|  War|  Western|  \n",
       "movie_id                                      \n",
       "1               0          0     0         0  \n",
       "2               0          1     0         0  \n",
       "3               0          1     0         0  \n",
       "4               0          0     0         0  \n",
       "5               0          1     0         0  \n",
       "\n",
       "[5 rows x 23 columns]"
      ]
     },
     "execution_count": 5,
     "metadata": {},
     "output_type": "execute_result"
    }
   ],
   "source": [
    "items_cols = ['movie_id' , 'movie_title' , 'release_date' , 'video_release_date' , 'IMDb_URL' , 'unknown|' , 'Action|' , 'Adventure|', 'Animation|', \"Children's|\", 'Comedy|', 'Crime|', 'Documentary|', 'Drama|',\\\n",
    "              'Fantasy|', 'Film-Noir|', 'Horror|', 'Musical|', 'Mystery|', 'Romance|', 'Sci-Fi|', 'Thriller|', \\\n",
    "              'War|', 'Western|']\n",
    "df_items = pd.read_csv('../input/u.item', sep='|', encoding='latin-1', names=items_cols, parse_dates=True, index_col='movie_id')\n",
    "df_items.head()"
   ]
  },
  {
   "cell_type": "code",
   "execution_count": 6,
   "metadata": {},
   "outputs": [
    {
     "data": {
      "text/plain": [
       "(1682, 4)"
      ]
     },
     "execution_count": 6,
     "metadata": {},
     "output_type": "execute_result"
    }
   ],
   "source": [
    "movie_cols = ['movie_id', 'title', 'release_date', 'video_release_date', 'imdb_url']\n",
    "df_movies = pd.read_csv('../input/u.item', sep='|', names=movie_cols, usecols=range(5), encoding='latin-1', index_col='movie_id')\n",
    "df_movies.shape"
   ]
  },
  {
   "cell_type": "code",
   "execution_count": 7,
   "metadata": {},
   "outputs": [
    {
     "data": {
      "text/html": [
       "<div>\n",
       "<style scoped>\n",
       "    .dataframe tbody tr th:only-of-type {\n",
       "        vertical-align: middle;\n",
       "    }\n",
       "\n",
       "    .dataframe tbody tr th {\n",
       "        vertical-align: top;\n",
       "    }\n",
       "\n",
       "    .dataframe thead th {\n",
       "        text-align: right;\n",
       "    }\n",
       "</style>\n",
       "<table border=\"1\" class=\"dataframe\">\n",
       "  <thead>\n",
       "    <tr style=\"text-align: right;\">\n",
       "      <th></th>\n",
       "      <th>title</th>\n",
       "      <th>release_date</th>\n",
       "      <th>video_release_date</th>\n",
       "      <th>imdb_url</th>\n",
       "    </tr>\n",
       "    <tr>\n",
       "      <th>movie_id</th>\n",
       "      <th></th>\n",
       "      <th></th>\n",
       "      <th></th>\n",
       "      <th></th>\n",
       "    </tr>\n",
       "  </thead>\n",
       "  <tbody>\n",
       "    <tr>\n",
       "      <th>1</th>\n",
       "      <td>Toy Story (1995)</td>\n",
       "      <td>01-Jan-1995</td>\n",
       "      <td>NaN</td>\n",
       "      <td>http://us.imdb.com/M/title-exact?Toy%20Story%2...</td>\n",
       "    </tr>\n",
       "    <tr>\n",
       "      <th>2</th>\n",
       "      <td>GoldenEye (1995)</td>\n",
       "      <td>01-Jan-1995</td>\n",
       "      <td>NaN</td>\n",
       "      <td>http://us.imdb.com/M/title-exact?GoldenEye%20(...</td>\n",
       "    </tr>\n",
       "    <tr>\n",
       "      <th>3</th>\n",
       "      <td>Four Rooms (1995)</td>\n",
       "      <td>01-Jan-1995</td>\n",
       "      <td>NaN</td>\n",
       "      <td>http://us.imdb.com/M/title-exact?Four%20Rooms%...</td>\n",
       "    </tr>\n",
       "    <tr>\n",
       "      <th>4</th>\n",
       "      <td>Get Shorty (1995)</td>\n",
       "      <td>01-Jan-1995</td>\n",
       "      <td>NaN</td>\n",
       "      <td>http://us.imdb.com/M/title-exact?Get%20Shorty%...</td>\n",
       "    </tr>\n",
       "    <tr>\n",
       "      <th>5</th>\n",
       "      <td>Copycat (1995)</td>\n",
       "      <td>01-Jan-1995</td>\n",
       "      <td>NaN</td>\n",
       "      <td>http://us.imdb.com/M/title-exact?Copycat%20(1995)</td>\n",
       "    </tr>\n",
       "  </tbody>\n",
       "</table>\n",
       "</div>"
      ],
      "text/plain": [
       "                      title release_date  video_release_date  \\\n",
       "movie_id                                                       \n",
       "1          Toy Story (1995)  01-Jan-1995                 NaN   \n",
       "2          GoldenEye (1995)  01-Jan-1995                 NaN   \n",
       "3         Four Rooms (1995)  01-Jan-1995                 NaN   \n",
       "4         Get Shorty (1995)  01-Jan-1995                 NaN   \n",
       "5            Copycat (1995)  01-Jan-1995                 NaN   \n",
       "\n",
       "                                                   imdb_url  \n",
       "movie_id                                                     \n",
       "1         http://us.imdb.com/M/title-exact?Toy%20Story%2...  \n",
       "2         http://us.imdb.com/M/title-exact?GoldenEye%20(...  \n",
       "3         http://us.imdb.com/M/title-exact?Four%20Rooms%...  \n",
       "4         http://us.imdb.com/M/title-exact?Get%20Shorty%...  \n",
       "5         http://us.imdb.com/M/title-exact?Copycat%20(1995)  "
      ]
     },
     "execution_count": 7,
     "metadata": {},
     "output_type": "execute_result"
    }
   ],
   "source": [
    "df_movies.head()"
   ]
  },
  {
   "cell_type": "markdown",
   "metadata": {},
   "source": [
    "df_movies provides infos for each movie (ie for each line).\n",
    "\n",
    "df_ratings provides infos for each rating a user have made."
   ]
  },
  {
   "cell_type": "markdown",
   "metadata": {},
   "source": [
    "u.data -- The full u data set, 100000 ratings by 943 users on 1682 items. Each user has rated at least 20 movies. Users and items are numbered consecutively from 1. The data is randomly ordered. This is a tab separated list of user id | item id | rating | timestamp. The time stamps are unix seconds since 1/1/1970 UTC\n",
    "\n",
    "u.item -- Information about the items (movies); this is a tab separated list of movie id | movie title | release date | video release date | IMDb URL | unknown | Action | Adventure | Animation | Children's | Comedy | Crime | Documentary | Drama | Fantasy | Film-Noir | Horror | Musical | Mystery | Romance | Sci-Fi | Thriller | War | Western | The last 19 fields are the genres, a 1 indicates the movie is of that genre, a 0 indicates it is not; movies can be in several genres at once. The movie ids are the ones used in the u.data data set.\n",
    "\n"
   ]
  },
  {
   "cell_type": "markdown",
   "metadata": {},
   "source": [
    "## Data Visualizations"
   ]
  },
  {
   "cell_type": "code",
   "execution_count": 8,
   "metadata": {},
   "outputs": [
    {
     "data": {
      "text/plain": [
       "<matplotlib.axes._subplots.AxesSubplot at 0x7ff6d2c90940>"
      ]
     },
     "execution_count": 8,
     "metadata": {},
     "output_type": "execute_result"
    },
    {
     "data": {
      "image/png": "[encoded data removed]",
      "text/plain": [
       "<Figure size 432x288 with 1 Axes>"
      ]
     },
     "metadata": {
      "needs_background": "light"
     },
     "output_type": "display_data"
    }
   ],
   "source": [
    "sns.countplot(x='rating', data=df_ratings)"
   ]
  },
  {
   "cell_type": "code",
   "execution_count": 9,
   "metadata": {},
   "outputs": [
    {
     "data": {
      "text/plain": [
       "<matplotlib.axes._subplots.AxesSubplot at 0x7ff6d2fff5f8>"
      ]
     },
     "execution_count": 9,
     "metadata": {},
     "output_type": "execute_result"
    },
    {
     "data": {
      "image/png": "[encoded data removed]",
      "text/plain": [
       "<Figure size 1008x360 with 1 Axes>"
      ]
     },
     "metadata": {
      "needs_background": "light"
     },
     "output_type": "display_data"
    }
   ],
   "source": [
    "plt.figure(figsize=(14, 5))\n",
    "sns.countplot(x='age', data=df_users)"
   ]
  },
  {
   "cell_type": "code",
   "execution_count": 10,
   "metadata": {},
   "outputs": [
    {
     "data": {
      "text/plain": [
       "<matplotlib.axes._subplots.AxesSubplot at 0x7ff6d27fbb00>"
      ]
     },
     "execution_count": 10,
     "metadata": {},
     "output_type": "execute_result"
    },
    {
     "data": {
      "image/png": "[encoded data removed]",
      "text/plain": [
       "<Figure size 432x288 with 1 Axes>"
      ]
     },
     "metadata": {
      "needs_background": "light"
     },
     "output_type": "display_data"
    }
   ],
   "source": [
    "sns.countplot(x='sex', data=df_users)"
   ]
  },
  {
   "cell_type": "code",
   "execution_count": 11,
   "metadata": {},
   "outputs": [
    {
     "data": {
      "text/plain": [
       "<matplotlib.axes._subplots.AxesSubplot at 0x7ff6d280f5f8>"
      ]
     },
     "execution_count": 11,
     "metadata": {},
     "output_type": "execute_result"
    },
    {
     "data": {
      "image/png": "[encoded data removed]",
      "text/plain": [
       "<Figure size 360x576 with 1 Axes>"
      ]
     },
     "metadata": {
      "needs_background": "light"
     },
     "output_type": "display_data"
    }
   ],
   "source": [
    "plt.figure(figsize=(5, 8))\n",
    "sns.countplot(y='occupation', data=df_users)"
   ]
  },
  {
   "cell_type": "code",
   "execution_count": 13,
   "metadata": {},
   "outputs": [
    {
     "data": {
      "text/plain": [
       "<matplotlib.axes._subplots.AxesSubplot at 0x7ff6d1edc5c0>"
      ]
     },
     "execution_count": 13,
     "metadata": {},
     "output_type": "execute_result"
    },
    {
     "data": {
      "image/png": "[encoded data removed]",
      "text/plain": [
       "<Figure size 360x576 with 1 Axes>"
      ]
     },
     "metadata": {
      "needs_background": "light"
     },
     "output_type": "display_data"
    }
   ],
   "source": [
    "genre_list = ['Action|' , 'Adventure|' , 'Animation|' , \"Children's|\" , 'Comedy|' , 'Crime|' , 'Documentary|' , 'Drama|' \\\n",
    "              , 'Fantasy|' , 'Film-Noir|' , 'Horror|' , 'Musical|' , 'Mystery|' , 'Romance|' , 'Sci-Fi|' , 'Thriller|' , \\\n",
    "              'War|' , 'Western|']\n",
    "genre_sum = []\n",
    "for g in genre_list:\n",
    "    genre_sum.append(df_items[g].sum())\n",
    "\n",
    "genre_df = pd.DataFrame({'genres' : genre_list, 'sum' : genre_sum})\n",
    "\n",
    "plt.figure(figsize=(5, 8))\n",
    "sns.barplot(y='genres', x='sum', data=genre_df)"
   ]
  },
  {
   "cell_type": "markdown",
   "metadata": {},
   "source": [
    "## Data preparation"
   ]
  },
  {
   "cell_type": "code",
   "execution_count": 14,
   "metadata": {},
   "outputs": [
    {
     "data": {
      "text/plain": [
       "Index(['movie_title', 'release_date', 'video_release_date', 'IMDb_URL',\n",
       "       'unknown|', 'Action|', 'Adventure|', 'Animation|', 'Children's|',\n",
       "       'Comedy|', 'Crime|', 'Documentary|', 'Drama|', 'Fantasy|', 'Film-Noir|',\n",
       "       'Horror|', 'Musical|', 'Mystery|', 'Romance|', 'Sci-Fi|', 'Thriller|',\n",
       "       'War|', 'Western|'],\n",
       "      dtype='object')"
      ]
     },
     "execution_count": 14,
     "metadata": {},
     "output_type": "execute_result"
    }
   ],
   "source": [
    "df_items.columns"
   ]
  },
  {
   "cell_type": "code",
   "execution_count": 15,
   "metadata": {},
   "outputs": [
    {
     "data": {
      "text/html": [
       "<div>\n",
       "<style scoped>\n",
       "    .dataframe tbody tr th:only-of-type {\n",
       "        vertical-align: middle;\n",
       "    }\n",
       "\n",
       "    .dataframe tbody tr th {\n",
       "        vertical-align: top;\n",
       "    }\n",
       "\n",
       "    .dataframe thead th {\n",
       "        text-align: right;\n",
       "    }\n",
       "</style>\n",
       "<table border=\"1\" class=\"dataframe\">\n",
       "  <thead>\n",
       "    <tr style=\"text-align: right;\">\n",
       "      <th></th>\n",
       "      <th>title</th>\n",
       "      <th>genres</th>\n",
       "    </tr>\n",
       "    <tr>\n",
       "      <th>movie_id</th>\n",
       "      <th></th>\n",
       "      <th></th>\n",
       "    </tr>\n",
       "  </thead>\n",
       "  <tbody>\n",
       "    <tr>\n",
       "      <th>1</th>\n",
       "      <td>Toy Story (1995)</td>\n",
       "      <td>Animation|Children's|Comedy|</td>\n",
       "    </tr>\n",
       "    <tr>\n",
       "      <th>2</th>\n",
       "      <td>GoldenEye (1995)</td>\n",
       "      <td>Action|Adventure|Thriller|</td>\n",
       "    </tr>\n",
       "    <tr>\n",
       "      <th>3</th>\n",
       "      <td>Four Rooms (1995)</td>\n",
       "      <td>Thriller|</td>\n",
       "    </tr>\n",
       "    <tr>\n",
       "      <th>4</th>\n",
       "      <td>Get Shorty (1995)</td>\n",
       "      <td>Action|Comedy|Drama|</td>\n",
       "    </tr>\n",
       "    <tr>\n",
       "      <th>5</th>\n",
       "      <td>Copycat (1995)</td>\n",
       "      <td>Crime|Drama|Thriller|</td>\n",
       "    </tr>\n",
       "  </tbody>\n",
       "</table>\n",
       "</div>"
      ],
      "text/plain": [
       "                      title                        genres\n",
       "movie_id                                                 \n",
       "1          Toy Story (1995)  Animation|Children's|Comedy|\n",
       "2          GoldenEye (1995)    Action|Adventure|Thriller|\n",
       "3         Four Rooms (1995)                     Thriller|\n",
       "4         Get Shorty (1995)          Action|Comedy|Drama|\n",
       "5            Copycat (1995)         Crime|Drama|Thriller|"
      ]
     },
     "execution_count": 15,
     "metadata": {},
     "output_type": "execute_result"
    }
   ],
   "source": [
    "df_items = df_items.drop(columns=['movie_title', 'release_date', 'video_release_date', 'IMDb_URL'])\n",
    "df_items = df_items.assign(genres=df_items.values.dot(df_items.columns.values))\n",
    "df_items = df_items.drop(columns=['unknown|', 'Action|', 'Adventure|', 'Animation|', \"Children's|\",\\\n",
    "       'Comedy|', 'Crime|', 'Documentary|', 'Drama|', 'Fantasy|', 'Film-Noir|',\\\n",
    "       'Horror|', 'Musical|', 'Mystery|', 'Romance|', 'Sci-Fi|', 'Thriller|',\\\n",
    "       'War|', 'Western|'])\n",
    "\n",
    "df_movies = pd.concat([df_movies, df_items], axis=1)\n",
    "df_movies = df_movies.drop(columns=['release_date', 'video_release_date', 'imdb_url'])\n",
    "df_movies.head()"
   ]
  },
  {
   "cell_type": "code",
   "execution_count": 16,
   "metadata": {},
   "outputs": [
    {
     "data": {
      "text/html": [
       "<div>\n",
       "<style scoped>\n",
       "    .dataframe tbody tr th:only-of-type {\n",
       "        vertical-align: middle;\n",
       "    }\n",
       "\n",
       "    .dataframe tbody tr th {\n",
       "        vertical-align: top;\n",
       "    }\n",
       "\n",
       "    .dataframe thead th {\n",
       "        text-align: right;\n",
       "    }\n",
       "</style>\n",
       "<table border=\"1\" class=\"dataframe\">\n",
       "  <thead>\n",
       "    <tr style=\"text-align: right;\">\n",
       "      <th></th>\n",
       "      <th>user_id</th>\n",
       "      <th>movie_id</th>\n",
       "      <th>rating</th>\n",
       "    </tr>\n",
       "  </thead>\n",
       "  <tbody>\n",
       "    <tr>\n",
       "      <th>0</th>\n",
       "      <td>196</td>\n",
       "      <td>242</td>\n",
       "      <td>3</td>\n",
       "    </tr>\n",
       "    <tr>\n",
       "      <th>1</th>\n",
       "      <td>186</td>\n",
       "      <td>302</td>\n",
       "      <td>3</td>\n",
       "    </tr>\n",
       "    <tr>\n",
       "      <th>2</th>\n",
       "      <td>22</td>\n",
       "      <td>377</td>\n",
       "      <td>1</td>\n",
       "    </tr>\n",
       "    <tr>\n",
       "      <th>3</th>\n",
       "      <td>244</td>\n",
       "      <td>51</td>\n",
       "      <td>2</td>\n",
       "    </tr>\n",
       "    <tr>\n",
       "      <th>4</th>\n",
       "      <td>166</td>\n",
       "      <td>346</td>\n",
       "      <td>1</td>\n",
       "    </tr>\n",
       "  </tbody>\n",
       "</table>\n",
       "</div>"
      ],
      "text/plain": [
       "   user_id  movie_id  rating\n",
       "0      196       242       3\n",
       "1      186       302       3\n",
       "2       22       377       1\n",
       "3      244        51       2\n",
       "4      166       346       1"
      ]
     },
     "execution_count": 16,
     "metadata": {},
     "output_type": "execute_result"
    }
   ],
   "source": [
    "df_ratings = df_ratings.drop(columns=['unix_timestamp'])\n",
    "df_ratings.head()"
   ]
  },
  {
   "cell_type": "markdown",
   "metadata": {},
   "source": [
    "In order to fit a LightFM model, the Dataframe should be transformed to a sparse matrix (i.e a big matrice with a lot of zeros or empty values). Pandas' df & Numpy arrays are not suitable for manipulating this kind of data. We need to use Scipy sparse matrices.\n",
    "\n",
    "By going so, the information of the ids (userId and movieId) will be lost. Then we will only deal with indices (row number and column number). Therefore, the df_to_matrix function also returns dictionaries mapping indexes to ids (ex: uid_to_idx mapping userId to index of the matrix)"
   ]
  },
  {
   "cell_type": "code",
   "execution_count": 17,
   "metadata": {},
   "outputs": [],
   "source": [
    "# Reference : https://github.com/EthanRosenthal/rec-a-sketch\n",
    "\n",
    "def threshold_interactions_df(df, row_name, col_name, row_min, col_min):\n",
    "    \"\"\"Limit interactions df to minimum row and column interactions.\n",
    "    Parameters\n",
    "    ----------\n",
    "    df : DataFrame\n",
    "        DataFrame which contains a single row for each interaction between\n",
    "        two entities. Typically, the two entities are a user and an item.\n",
    "    row_name : str\n",
    "        Name of column in df which corresponds to the eventual row in the\n",
    "        interactions matrix.\n",
    "    col_name : str\n",
    "        Name of column in df which corresponds to the eventual column in the\n",
    "        interactions matrix.\n",
    "    row_min : int\n",
    "        Minimum number of interactions that the row entity has had with\n",
    "        distinct column entities.\n",
    "    col_min : int\n",
    "        Minimum number of interactions that the column entity has had with\n",
    "        distinct row entities.\n",
    "    Returns\n",
    "    -------\n",
    "    df : DataFrame\n",
    "        Thresholded version of the input df. Order of rows is not preserved.\n",
    "    Examples\n",
    "    --------\n",
    "    df looks like:\n",
    "    user_id | item_id\n",
    "    =================\n",
    "      1001  |  2002\n",
    "      1001  |  2004\n",
    "      1002  |  2002\n",
    "    thus, row_name = 'user_id', and col_name = 'item_id'\n",
    "    If we were to set row_min = 2 and col_min = 1, then the returned df would\n",
    "    look like\n",
    "    user_id | item_id\n",
    "    =================\n",
    "      1001  |  2002\n",
    "      1001  |  2004\n",
    "    \"\"\"\n",
    "\n",
    "    n_rows = df[row_name].unique().shape[0]\n",
    "    n_cols = df[col_name].unique().shape[0]\n",
    "    sparsity = float(df.shape[0]) / float(n_rows*n_cols) * 100\n",
    "    print('Starting interactions info')\n",
    "    print('Number of rows: {}'.format(n_rows))\n",
    "    print('Number of cols: {}'.format(n_cols))\n",
    "    print('Sparsity: {:4.3f}%'.format(sparsity))\n",
    "\n",
    "    done = False\n",
    "    while not done:\n",
    "        starting_shape = df.shape[0]\n",
    "        col_counts = df.groupby(row_name)[col_name].count()\n",
    "        df = df[~df[row_name].isin(col_counts[col_counts < col_min].index.tolist())]\n",
    "        row_counts = df.groupby(col_name)[row_name].count()\n",
    "        df = df[~df[col_name].isin(row_counts[row_counts < row_min].index.tolist())]\n",
    "        ending_shape = df.shape[0]\n",
    "        if starting_shape == ending_shape:\n",
    "            done = True\n",
    "\n",
    "    n_rows = df[row_name].unique().shape[0]\n",
    "    n_cols = df[col_name].unique().shape[0]\n",
    "    sparsity = float(df.shape[0]) / float(n_rows*n_cols) * 100\n",
    "    print('Ending interactions info')\n",
    "    print('Number of rows: {}'.format(n_rows))\n",
    "    print('Number of columns: {}'.format(n_cols))\n",
    "    print('Sparsity: {:4.3f}%'.format(sparsity))\n",
    "    return df\n",
    "\n",
    "def get_df_mappings(df, row_name, col_name):\n",
    "    \"\"\"Map entities in interactions df to row and column indices\n",
    "    Parameters\n",
    "    ----------\n",
    "    df : DataFrame\n",
    "        Interactions DataFrame.\n",
    "    row_name : str\n",
    "        Name of column in df which contains row entities.\n",
    "    col_name : str\n",
    "        Name of column in df which contains column entities.\n",
    "    Returns\n",
    "    -------\n",
    "    rid_to_idx : dict\n",
    "        Maps row ID's to the row index in the eventual interactions matrix.\n",
    "    idx_to_rid : dict\n",
    "        Reverse of rid_to_idx. Maps row index to row ID.\n",
    "    cid_to_idx : dict\n",
    "        Same as rid_to_idx but for column ID's\n",
    "    idx_to_cid : dict\n",
    "    \"\"\"\n",
    "\n",
    "\n",
    "    # Create mappings\n",
    "    rid_to_idx = {}\n",
    "    idx_to_rid = {}\n",
    "    for (idx, rid) in enumerate(df[row_name].unique().tolist()):\n",
    "        rid_to_idx[rid] = idx\n",
    "        idx_to_rid[idx] = rid\n",
    "\n",
    "    cid_to_idx = {}\n",
    "    idx_to_cid = {}\n",
    "    for (idx, cid) in enumerate(df[col_name].unique().tolist()):\n",
    "        cid_to_idx[cid] = idx\n",
    "        idx_to_cid[idx] = cid\n",
    "\n",
    "    return rid_to_idx, idx_to_rid, cid_to_idx, idx_to_cid\n",
    "\n",
    "\n",
    "def df_to_matrix(df, row_name, col_name):\n",
    "    \"\"\"Take interactions dataframe and convert to a sparse matrix\n",
    "    Parameters\n",
    "    ----------\n",
    "    df : DataFrame\n",
    "    row_name : str\n",
    "    col_name : str\n",
    "    Returns\n",
    "    -------\n",
    "    interactions : sparse csr matrix\n",
    "    rid_to_idx : dict\n",
    "    idx_to_rid : dict\n",
    "    cid_to_idx : dict\n",
    "    idx_to_cid : dict\n",
    "    \"\"\"\n",
    "    rid_to_idx, idx_to_rid,\\\n",
    "        cid_to_idx, idx_to_cid = get_df_mappings(df, row_name, col_name)\n",
    "\n",
    "    def map_ids(row, mapper):\n",
    "        return mapper[row]\n",
    "\n",
    "    I = df[row_name].apply(map_ids, args=[rid_to_idx]).values\n",
    "    J = df[col_name].apply(map_ids, args=[cid_to_idx]).values\n",
    "    V = np.ones(I.shape[0])\n",
    "    interactions = sparse.coo_matrix((V, (I, J)), dtype=np.float64)\n",
    "    interactions = interactions.tocsr()\n",
    "    return interactions, rid_to_idx, idx_to_rid, cid_to_idx, idx_to_cid"
   ]
  },
  {
   "cell_type": "code",
   "execution_count": 18,
   "metadata": {},
   "outputs": [
    {
     "data": {
      "text/plain": [
       "array([[1., 0., 0., ..., 0., 0., 0.],\n",
       "       [0., 1., 0., ..., 0., 0., 0.],\n",
       "       [0., 0., 1., ..., 0., 0., 0.],\n",
       "       ...,\n",
       "       [0., 0., 0., ..., 0., 0., 0.],\n",
       "       [0., 1., 0., ..., 0., 0., 0.],\n",
       "       [0., 0., 0., ..., 0., 0., 0.]])"
      ]
     },
     "execution_count": 18,
     "metadata": {},
     "output_type": "execute_result"
    }
   ],
   "source": [
    "ratings_matrix, user_id_to_idx, idx_to_user_id, movie_id_to_idx, idx_to_movie_id = df_to_matrix \\\n",
    "        (df_ratings, row_name='user_id', col_name='movie_id')\n",
    "\n",
    "ratings_matrix.toarray()"
   ]
  },
  {
   "cell_type": "markdown",
   "metadata": {},
   "source": [
    "This leads to the creation of 5 new variables:\n",
    "\n",
    "* a final sparse matrix ratings_matrix (this will be the data used to train the model) and the following utils mappers:\n",
    "* uid_to_idx\n",
    "* idx_to_uid\n",
    "* mid_to_idx\n",
    "* idx_to_mid"
   ]
  },
  {
   "cell_type": "markdown",
   "metadata": {},
   "source": [
    "__How to use those mappers ?__"
   ]
  },
  {
   "cell_type": "code",
   "execution_count": 19,
   "metadata": {},
   "outputs": [
    {
     "data": {
      "text/plain": [
       "movie_id\n",
       "11                          Seven (Se7en) (1995)\n",
       "50                              Star Wars (1977)\n",
       "210    Indiana Jones and the Last Crusade (1989)\n",
       "258                               Contact (1997)\n",
       "260                         Event Horizon (1997)\n",
       "264                                 Mimic (1997)\n",
       "271                     Starship Troopers (1997)\n",
       "288                                Scream (1996)\n",
       "294                             Liar Liar (1997)\n",
       "300                         Air Force One (1997)\n",
       "301                              In & Out (1997)\n",
       "303                           Ulee's Gold (1997)\n",
       "324                          Lost Highway (1997)\n",
       "327                              Cop Land (1997)\n",
       "328                     Conspiracy Theory (1997)\n",
       "329                    Desperate Measures (1998)\n",
       "354                   Wedding Singer, The (1998)\n",
       "356                           Client, The (1994)\n",
       "357       One Flew Over the Cuckoo's Nest (1975)\n",
       "358                                 Spawn (1997)\n",
       "359                       Assignment, The (1997)\n",
       "360                            Wonderland (1997)\n",
       "361                             Incognito (1997)\n",
       "362                   Blues Brothers 2000 (1998)\n",
       "Name: title, dtype: object"
      ]
     },
     "execution_count": 19,
     "metadata": {},
     "output_type": "execute_result"
    }
   ],
   "source": [
    "# for instance what movies did the userId 4 rate¶\n",
    "movies_user4 = ratings_matrix.toarray()[user_id_to_idx[4], :]\n",
    "movies_id_user4 = np.sort(np.vectorize(idx_to_movie_id.get)(np.argwhere(movies_user4>0).flatten()))\n",
    "df_movies.loc[movies_id_user4, :]['title']"
   ]
  },
  {
   "cell_type": "code",
   "execution_count": 20,
   "metadata": {},
   "outputs": [
    {
     "data": {
      "text/plain": [
       "array([1., 1., 1., 1., 0., 0., 0.])"
      ]
     },
     "execution_count": 20,
     "metadata": {},
     "output_type": "execute_result"
    }
   ],
   "source": [
    "# On the other side, what is the value of ratings_matrix for: userId = 4\n",
    "movieId_list = [11, 50, 210, 324, 8, 9, 10]\n",
    "\n",
    "movieId_idx = [movie_id_to_idx[i] for i in movieId_list]\n",
    "movieId_idx\n",
    "\n",
    "ratings_user4 = ratings_matrix.toarray()[user_id_to_idx[4], movieId_idx]\n",
    "ratings_user4\n",
    "#the values in ratings_matrix tells if a user a rated a movie but don't explicit the rating value"
   ]
  },
  {
   "cell_type": "markdown",
   "metadata": {},
   "source": [
    "---"
   ]
  },
  {
   "cell_type": "markdown",
   "metadata": {},
   "source": [
    "# Recommendation model"
   ]
  },
  {
   "cell_type": "code",
   "execution_count": 21,
   "metadata": {},
   "outputs": [],
   "source": [
    "from lightfm.cross_validation import random_train_test_split\n",
    "from lightfm import LightFM\n",
    "from lightfm.evaluation import precision_at_k"
   ]
  },
  {
   "cell_type": "markdown",
   "metadata": {},
   "source": [
    "## Introduction to [lightFM](https://lyst.github.io/lightfm/docs/index.html)\n",
    "\n",
    "_LightFM is a Python implementation of a number of popular recommendation algorithms for both implicit and explicit feedback._\n",
    "\n",
    "_It also makes it possible to incorporate both item and user metadata into the traditional matrix factorization algorithms. It represents each user and item as the sum of the latent representations of their features, thus allowing recommendations to generalise to new items (via item features) and to new users (via user features)._"
   ]
  },
  {
   "cell_type": "markdown",
   "metadata": {},
   "source": [
    "__Data expected by the LightFM fit method__\n",
    "\n",
    "From the doc, chapter 'usage':\n",
    "\n",
    "model = LightFM(no_components=30)\n",
    "\n",
    "Assuming train is a (no_users, no_items) sparse matrix (with 1s denoting positive, and -1s negative interactions),\n",
    "\n",
    "you can fit a traditional matrix factorization model by calling:\n",
    "\n",
    "model.fit(train, epochs=20)\n",
    "\n",
    "This will train a traditional MF model, as no user or item features have been supplied.\n",
    "\n"
   ]
  },
  {
   "cell_type": "markdown",
   "metadata": {},
   "source": [
    "## Splitting data"
   ]
  },
  {
   "cell_type": "markdown",
   "metadata": {},
   "source": [
    "The dataset is slightly different from what we have been used to with Scikit-Learn (X as features, y as target).\n",
    "\n",
    "Lightfm provides a random_train_test_split located into cross_validation dedicated to this usecase.\n",
    "\n",
    "Let's split the data randomly into a train matrix and a test matrix with 20% of interactions into the test set."
   ]
  },
  {
   "cell_type": "code",
   "execution_count": 22,
   "metadata": {},
   "outputs": [],
   "source": [
    "train, test = random_train_test_split(ratings_matrix, test_percentage=0.2)"
   ]
  },
  {
   "cell_type": "markdown",
   "metadata": {},
   "source": [
    "## Metric and model performance evaluation\n",
    "\n",
    "* The optimized metric is the percentage of top k items in the ranking the user has actually interacted with - i.e how good the ranking produced by the model is.\n",
    "* We'll evaluate the recommendation engine with the WARP: the Weighted Approximate-Rank Pairwise loss. It maximises the rank of positive examples by repeatedly sampling negative examples until rank violating one is found. Useful when only positive interactions are present and optimising the top of the recommendation list (precision@k) is desired."
   ]
  },
  {
   "cell_type": "markdown",
   "metadata": {},
   "source": [
    "## Model training and precision"
   ]
  },
  {
   "cell_type": "code",
   "execution_count": 23,
   "metadata": {},
   "outputs": [
    {
     "data": {
      "text/plain": [
       "<lightfm.lightfm.LightFM at 0x7ff6d1e09400>"
      ]
     },
     "execution_count": 23,
     "metadata": {},
     "output_type": "execute_result"
    }
   ],
   "source": [
    "model = LightFM(loss='warp-kos', no_components=40, k=3, learning_rate=0.03)\n",
    "model.fit(train, epochs=100)"
   ]
  },
  {
   "cell_type": "code",
   "execution_count": 24,
   "metadata": {},
   "outputs": [
    {
     "name": "stdout",
     "output_type": "stream",
     "text": [
      "Train precision: 0.90\n",
      "Test precision: 0.38\n"
     ]
    }
   ],
   "source": [
    "print(\"Train precision: %.2f\" % precision_at_k(model, train, k=5).mean())\n",
    "print(\"Test precision: %.2f\" % precision_at_k(model, test, train_interactions=train, k=5).mean())"
   ]
  },
  {
   "cell_type": "markdown",
   "metadata": {},
   "source": [
    "__What does the attribute item_embeddings of model contains?__"
   ]
  },
  {
   "cell_type": "code",
   "execution_count": 25,
   "metadata": {},
   "outputs": [
    {
     "data": {
      "text/plain": [
       "(943, 1682)"
      ]
     },
     "execution_count": 25,
     "metadata": {},
     "output_type": "execute_result"
    }
   ],
   "source": [
    "ratings_matrix.toarray().shape"
   ]
  },
  {
   "cell_type": "code",
   "execution_count": 26,
   "metadata": {},
   "outputs": [
    {
     "data": {
      "text/plain": [
       "(1682, 40)"
      ]
     },
     "execution_count": 26,
     "metadata": {},
     "output_type": "execute_result"
    }
   ],
   "source": [
    "# equivalent of the Q matrix with no_components = 10, ie the nb of embeddings / features found by the model\n",
    "model.item_embeddings.shape"
   ]
  },
  {
   "cell_type": "code",
   "execution_count": 27,
   "metadata": {},
   "outputs": [
    {
     "data": {
      "text/plain": [
       "(943, 40)"
      ]
     },
     "execution_count": 27,
     "metadata": {},
     "output_type": "execute_result"
    }
   ],
   "source": [
    "# equivalent of the P matrix with no_components = 10, ie the nb of embeddings / features found by the model\n",
    "model.user_embeddings.shape"
   ]
  },
  {
   "cell_type": "markdown",
   "metadata": {},
   "source": [
    "## Similarity scores between pairs of movies"
   ]
  },
  {
   "cell_type": "markdown",
   "metadata": {},
   "source": [
    "Previously, we've trained a model that factorized our ratings matrix into a U matrix of shape (n_users, no_components) : model.user_embeddings ; and V matrix of shape (n_movies, no_components) : model.item_embeddings).\n",
    "\n",
    "Now we would like to compute similarity between each pair of movies.\n",
    "To calculate a similarity distance, there are 2 choices\n",
    "* cosine_similarity function \n",
    "    * from sklearn.metrics.pairwise import cosine_similarity\n",
    "    * cosine_similarity(X, Y)\n",
    "* or pearson_similarity:\n",
    "    * import numpy as np\n",
    "    * np.corrcoef(X, Y)"
   ]
  },
  {
   "cell_type": "code",
   "execution_count": 28,
   "metadata": {},
   "outputs": [
    {
     "data": {
      "text/plain": [
       "array([[ 1.        ,  0.57263047, -0.29514056, ...,  0.060317  ,\n",
       "        -0.09197298,  0.00275088],\n",
       "       [ 0.57263047,  0.9999999 , -0.44658163, ..., -0.34866545,\n",
       "        -0.4726262 , -0.32605925],\n",
       "       [-0.29514056, -0.44658163,  0.9999999 , ...,  0.43030536,\n",
       "         0.49426264,  0.446904  ],\n",
       "       ...,\n",
       "       [ 0.060317  , -0.34866545,  0.43030536, ...,  1.0000001 ,\n",
       "         0.92561895,  0.8831595 ],\n",
       "       [-0.09197298, -0.4726262 ,  0.49426264, ...,  0.92561895,\n",
       "         1.0000001 ,  0.95437247],\n",
       "       [ 0.00275088, -0.32605925,  0.446904  , ...,  0.8831595 ,\n",
       "         0.95437247,  0.99999994]], dtype=float32)"
      ]
     },
     "execution_count": 28,
     "metadata": {},
     "output_type": "execute_result"
    }
   ],
   "source": [
    "#Compute the similarity_scores of size (n_movies, n_movies), containing for each element (i, j) the similarity between movie of index i and movie of index j.\n",
    "from sklearn.metrics.pairwise import cosine_similarity\n",
    "\n",
    "similarity_scores = cosine_similarity(model.item_embeddings, model.item_embeddings)\n",
    "similarity_scores"
   ]
  },
  {
   "cell_type": "code",
   "execution_count": 29,
   "metadata": {},
   "outputs": [
    {
     "data": {
      "text/plain": [
       "(1682, 1682)"
      ]
     },
     "execution_count": 29,
     "metadata": {},
     "output_type": "execute_result"
    }
   ],
   "source": [
    "# it's the similarity with the \"features\" for all movies\n",
    "cosine_similarity(model.item_embeddings, model.item_embeddings).shape"
   ]
  },
  {
   "cell_type": "code",
   "execution_count": 30,
   "metadata": {},
   "outputs": [
    {
     "data": {
      "text/plain": [
       "array([[ 1.        ,  0.54890129, -0.2542215 , ...,  0.05419745,\n",
       "        -0.09978212, -0.0223662 ],\n",
       "       [ 0.54890129,  1.        , -0.38455296, ..., -0.38700386,\n",
       "        -0.51688167, -0.3992555 ],\n",
       "       [-0.2542215 , -0.38455296,  1.        , ...,  0.46090922,\n",
       "         0.52554012,  0.5086946 ],\n",
       "       ...,\n",
       "       [ 0.05419745, -0.38700386,  0.46090922, ...,  1.        ,\n",
       "         0.92555924,  0.8861347 ],\n",
       "       [-0.09978212, -0.51688167,  0.52554012, ...,  0.92555924,\n",
       "         1.        ,  0.95862036],\n",
       "       [-0.0223662 , -0.3992555 ,  0.5086946 , ...,  0.8861347 ,\n",
       "         0.95862036,  1.        ]])"
      ]
     },
     "execution_count": 30,
     "metadata": {},
     "output_type": "execute_result"
    }
   ],
   "source": [
    "np.corrcoef(model.item_embeddings)"
   ]
  },
  {
   "cell_type": "code",
   "execution_count": 31,
   "metadata": {},
   "outputs": [
    {
     "data": {
      "text/plain": [
       "(1682, 1682)"
      ]
     },
     "execution_count": 31,
     "metadata": {},
     "output_type": "execute_result"
    }
   ],
   "source": [
    "np.corrcoef(model.item_embeddings).shape"
   ]
  },
  {
   "cell_type": "markdown",
   "metadata": {},
   "source": [
    "---"
   ]
  },
  {
   "cell_type": "markdown",
   "metadata": {},
   "source": [
    "# Recommandation engine practical use"
   ]
  },
  {
   "cell_type": "code",
   "execution_count": 32,
   "metadata": {},
   "outputs": [
    {
     "data": {
      "text/html": [
       "<div>\n",
       "<style scoped>\n",
       "    .dataframe tbody tr th:only-of-type {\n",
       "        vertical-align: middle;\n",
       "    }\n",
       "\n",
       "    .dataframe tbody tr th {\n",
       "        vertical-align: top;\n",
       "    }\n",
       "\n",
       "    .dataframe thead th {\n",
       "        text-align: right;\n",
       "    }\n",
       "</style>\n",
       "<table border=\"1\" class=\"dataframe\">\n",
       "  <thead>\n",
       "    <tr style=\"text-align: right;\">\n",
       "      <th></th>\n",
       "      <th>title</th>\n",
       "      <th>genres</th>\n",
       "    </tr>\n",
       "    <tr>\n",
       "      <th>movie_id</th>\n",
       "      <th></th>\n",
       "      <th></th>\n",
       "    </tr>\n",
       "  </thead>\n",
       "  <tbody>\n",
       "    <tr>\n",
       "      <th>499</th>\n",
       "      <td>Cat on a Hot Tin Roof (1958)</td>\n",
       "      <td>Drama|</td>\n",
       "    </tr>\n",
       "    <tr>\n",
       "      <th>478</th>\n",
       "      <td>Philadelphia Story, The (1940)</td>\n",
       "      <td>Comedy|Romance|</td>\n",
       "    </tr>\n",
       "    <tr>\n",
       "      <th>482</th>\n",
       "      <td>Some Like It Hot (1959)</td>\n",
       "      <td>Comedy|Crime|</td>\n",
       "    </tr>\n",
       "    <tr>\n",
       "      <th>136</th>\n",
       "      <td>Mr. Smith Goes to Washington (1939)</td>\n",
       "      <td>Drama|</td>\n",
       "    </tr>\n",
       "    <tr>\n",
       "      <th>615</th>\n",
       "      <td>39 Steps, The (1935)</td>\n",
       "      <td>Thriller|</td>\n",
       "    </tr>\n",
       "    <tr>\n",
       "      <th>609</th>\n",
       "      <td>Father of the Bride (1950)</td>\n",
       "      <td>Comedy|</td>\n",
       "    </tr>\n",
       "    <tr>\n",
       "      <th>641</th>\n",
       "      <td>Paths of Glory (1957)</td>\n",
       "      <td>Drama|War|</td>\n",
       "    </tr>\n",
       "    <tr>\n",
       "      <th>604</th>\n",
       "      <td>It Happened One Night (1934)</td>\n",
       "      <td>Comedy|</td>\n",
       "    </tr>\n",
       "    <tr>\n",
       "      <th>490</th>\n",
       "      <td>To Catch a Thief (1955)</td>\n",
       "      <td>Comedy|Romance|Thriller|</td>\n",
       "    </tr>\n",
       "    <tr>\n",
       "      <th>512</th>\n",
       "      <td>Wings of Desire (1987)</td>\n",
       "      <td>Comedy|Drama|Romance|</td>\n",
       "    </tr>\n",
       "  </tbody>\n",
       "</table>\n",
       "</div>"
      ],
      "text/plain": [
       "                                        title                    genres\n",
       "movie_id                                                               \n",
       "499              Cat on a Hot Tin Roof (1958)                    Drama|\n",
       "478            Philadelphia Story, The (1940)           Comedy|Romance|\n",
       "482                   Some Like It Hot (1959)             Comedy|Crime|\n",
       "136       Mr. Smith Goes to Washington (1939)                    Drama|\n",
       "615                      39 Steps, The (1935)                 Thriller|\n",
       "609                Father of the Bride (1950)                   Comedy|\n",
       "641                     Paths of Glory (1957)                Drama|War|\n",
       "604              It Happened One Night (1934)                   Comedy|\n",
       "490                   To Catch a Thief (1955)  Comedy|Romance|Thriller|\n",
       "512                    Wings of Desire (1987)     Comedy|Drama|Romance|"
      ]
     },
     "execution_count": 32,
     "metadata": {},
     "output_type": "execute_result"
    }
   ],
   "source": [
    "# For instance what are the 10 most similar movies to movie of idx 21 ?\n",
    "df_movies.loc[np.vectorize(idx_to_movie_id.get)(similarity_scores[21].argsort()[::-1][1:11])]"
   ]
  },
  {
   "cell_type": "markdown",
   "metadata": {},
   "source": [
    "On the assumption that a user likes Scream (movie_id = 288), what would be other recommend movies ?\n",
    "(i.e which movies are the most similar)\n",
    "\n",
    "Retrieve the top 10 recommendations."
   ]
  },
  {
   "cell_type": "code",
   "execution_count": 33,
   "metadata": {},
   "outputs": [
    {
     "data": {
      "text/html": [
       "<div>\n",
       "<style scoped>\n",
       "    .dataframe tbody tr th:only-of-type {\n",
       "        vertical-align: middle;\n",
       "    }\n",
       "\n",
       "    .dataframe tbody tr th {\n",
       "        vertical-align: top;\n",
       "    }\n",
       "\n",
       "    .dataframe thead th {\n",
       "        text-align: right;\n",
       "    }\n",
       "</style>\n",
       "<table border=\"1\" class=\"dataframe\">\n",
       "  <thead>\n",
       "    <tr style=\"text-align: right;\">\n",
       "      <th></th>\n",
       "      <th>title</th>\n",
       "      <th>genres</th>\n",
       "    </tr>\n",
       "    <tr>\n",
       "      <th>movie_id</th>\n",
       "      <th></th>\n",
       "      <th></th>\n",
       "    </tr>\n",
       "  </thead>\n",
       "  <tbody>\n",
       "    <tr>\n",
       "      <th>294</th>\n",
       "      <td>Liar Liar (1997)</td>\n",
       "      <td>Comedy|</td>\n",
       "    </tr>\n",
       "    <tr>\n",
       "      <th>325</th>\n",
       "      <td>Crash (1996)</td>\n",
       "      <td>Drama|Thriller|</td>\n",
       "    </tr>\n",
       "    <tr>\n",
       "      <th>748</th>\n",
       "      <td>Saint, The (1997)</td>\n",
       "      <td>Action|Romance|Thriller|</td>\n",
       "    </tr>\n",
       "    <tr>\n",
       "      <th>7</th>\n",
       "      <td>Twelve Monkeys (1995)</td>\n",
       "      <td>Drama|Sci-Fi|</td>\n",
       "    </tr>\n",
       "    <tr>\n",
       "      <th>333</th>\n",
       "      <td>Game, The (1997)</td>\n",
       "      <td>Mystery|Thriller|</td>\n",
       "    </tr>\n",
       "    <tr>\n",
       "      <th>628</th>\n",
       "      <td>Sleepers (1996)</td>\n",
       "      <td>Crime|Drama|</td>\n",
       "    </tr>\n",
       "    <tr>\n",
       "      <th>12</th>\n",
       "      <td>Usual Suspects, The (1995)</td>\n",
       "      <td>Crime|Thriller|</td>\n",
       "    </tr>\n",
       "    <tr>\n",
       "      <th>271</th>\n",
       "      <td>Starship Troopers (1997)</td>\n",
       "      <td>Action|Adventure|Sci-Fi|War|</td>\n",
       "    </tr>\n",
       "    <tr>\n",
       "      <th>289</th>\n",
       "      <td>Evita (1996)</td>\n",
       "      <td>Drama|Musical|</td>\n",
       "    </tr>\n",
       "    <tr>\n",
       "      <th>269</th>\n",
       "      <td>Full Monty, The (1997)</td>\n",
       "      <td>Comedy|</td>\n",
       "    </tr>\n",
       "  </tbody>\n",
       "</table>\n",
       "</div>"
      ],
      "text/plain": [
       "                               title                        genres\n",
       "movie_id                                                          \n",
       "294                 Liar Liar (1997)                       Comedy|\n",
       "325                     Crash (1996)               Drama|Thriller|\n",
       "748                Saint, The (1997)      Action|Romance|Thriller|\n",
       "7              Twelve Monkeys (1995)                 Drama|Sci-Fi|\n",
       "333                 Game, The (1997)             Mystery|Thriller|\n",
       "628                  Sleepers (1996)                  Crime|Drama|\n",
       "12        Usual Suspects, The (1995)               Crime|Thriller|\n",
       "271         Starship Troopers (1997)  Action|Adventure|Sci-Fi|War|\n",
       "289                     Evita (1996)                Drama|Musical|\n",
       "269           Full Monty, The (1997)                       Comedy|"
      ]
     },
     "execution_count": 33,
     "metadata": {},
     "output_type": "execute_result"
    }
   ],
   "source": [
    "#similarity_scores works with idx and you have the movie_id associated to your movie.\n",
    "df_movies.loc[np.vectorize(idx_to_movie_id.get)(similarity_scores[movie_id_to_idx[288]].argsort()[::-1][1:11])]"
   ]
  },
  {
   "cell_type": "code",
   "execution_count": null,
   "metadata": {},
   "outputs": [],
   "source": []
  }
 ],
 "metadata": {
  "kernelspec": {
   "display_name": "Python 3",
   "language": "python",
   "name": "python3"
  },
  "language_info": {
   "codemirror_mode": {
    "name": "ipython",
    "version": 3
   },
   "file_extension": ".py",
   "mimetype": "text/x-python",
   "name": "python",
   "nbconvert_exporter": "python",
   "pygments_lexer": "ipython3",
   "version": "3.7.1"
  },
  "toc": {
   "base_numbering": 1,
   "nav_menu": {},
   "number_sections": true,
   "sideBar": true,
   "skip_h1_title": false,
   "title_cell": "Table of Contents",
   "title_sidebar": "Contents",
   "toc_cell": false,
   "toc_position": {},
   "toc_section_display": true,
   "toc_window_display": false
  }
 },
 "nbformat": 4,
 "nbformat_minor": 2
}
